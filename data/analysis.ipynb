{
 "cells": [
  {
   "cell_type": "markdown",
   "id": "6903a8c2-33a8-4106-8a62-21abc6f7ffff",
   "metadata": {},
   "source": [
    "# Data analysis"
   ]
  },
  {
   "cell_type": "code",
   "execution_count": 2,
   "id": "32776385-0745-4e2f-834c-2eff5fa038b3",
   "metadata": {},
   "outputs": [],
   "source": [
    "import pandas as pd\n",
    "import json"
   ]
  },
  {
   "cell_type": "code",
   "execution_count": 3,
   "id": "f3d5929b-1355-4367-8ea9-2f27f70a2733",
   "metadata": {
    "tags": []
   },
   "outputs": [],
   "source": [
    "def get_topics_dataframe(filename = \"form-data.txt\"):\n",
    "    with open(filename) as f:\n",
    "        data = json.load(f)[\"topics\"]\n",
    "    data_as_flat_list = []\n",
    "    for topic, topic_data in data.items():\n",
    "        weight = topic_data[\"weight\"]\n",
    "        subtopics = topic_data[\"subtopics\"]\n",
    "        for subtopic, fields in subtopics.items():\n",
    "            row = fields\n",
    "            row[\"Topic\"] = topic\n",
    "            row[\"Subtopic\"] = subtopic\n",
    "            row[\"Weight\"] = weight\n",
    "            data_as_flat_list.append(row)\n",
    "    df = pd.DataFrame(data_as_flat_list).set_index(['Topic', 'Subtopic'])\n",
    "    df[\"WeightedCPs\"] = df[\"CPs of lecture (or equivalent)\"]*df[\"Weight\"]*df[\"selected\"]\n",
    "    return df\n",
    "\n",
    "def get_questions(filename = \"form-data.txt\"):\n",
    "    with open(filename) as f:\n",
    "        data = json.load(f)[\"questions\"]\n",
    "    return [{\"Question\": q, \"Answer\": qd[\"answer\"]} for q, qd in data.items()]"
   ]
  },
  {
   "cell_type": "code",
   "execution_count": 11,
   "id": "d086545e-9beb-40ed-bf42-312fbb7786e5",
   "metadata": {
    "tags": []
   },
   "outputs": [],
   "source": [
    "df = get_topics_dataframe(\"/home/lkeegan/Downloads/form-data (15) (1).txt\")"
   ]
  },
  {
   "cell_type": "code",
   "execution_count": 12,
   "id": "06f9d84a-9e51-4813-ad24-d1424961d949",
   "metadata": {
    "tags": []
   },
   "outputs": [
    {
     "data": {
      "text/plain": [
       "15.0"
      ]
     },
     "execution_count": 12,
     "metadata": {},
     "output_type": "execute_result"
    }
   ],
   "source": [
    "# score 0-15 linear scale counting how many skills were checked (0=none, 15=all, ignores CPs)\n",
    "df[df.selected==True].count().selected*15/54"
   ]
  },
  {
   "cell_type": "code",
   "execution_count": 6,
   "id": "7cc37bde-a726-4fd9-8da6-326e8375c352",
   "metadata": {
    "tags": []
   },
   "outputs": [
    {
     "data": {
      "text/html": [
       "<div>\n",
       "<style scoped>\n",
       "    .dataframe tbody tr th:only-of-type {\n",
       "        vertical-align: middle;\n",
       "    }\n",
       "\n",
       "    .dataframe tbody tr th {\n",
       "        vertical-align: top;\n",
       "    }\n",
       "\n",
       "    .dataframe thead th {\n",
       "        text-align: right;\n",
       "    }\n",
       "</style>\n",
       "<table border=\"1\" class=\"dataframe\">\n",
       "  <thead>\n",
       "    <tr style=\"text-align: right;\">\n",
       "      <th></th>\n",
       "      <th>selected</th>\n",
       "      <th>CPs of lecture (or equivalent)</th>\n",
       "      <th>WeightedCPs</th>\n",
       "    </tr>\n",
       "    <tr>\n",
       "      <th>Topic</th>\n",
       "      <th></th>\n",
       "      <th></th>\n",
       "      <th></th>\n",
       "    </tr>\n",
       "  </thead>\n",
       "  <tbody>\n",
       "    <tr>\n",
       "      <th>Algorithms and data structures</th>\n",
       "      <td>6</td>\n",
       "      <td>48</td>\n",
       "      <td>288</td>\n",
       "    </tr>\n",
       "    <tr>\n",
       "      <th>Calculus</th>\n",
       "      <td>6</td>\n",
       "      <td>48</td>\n",
       "      <td>288</td>\n",
       "    </tr>\n",
       "    <tr>\n",
       "      <th>Databases</th>\n",
       "      <td>6</td>\n",
       "      <td>48</td>\n",
       "      <td>288</td>\n",
       "    </tr>\n",
       "    <tr>\n",
       "      <th>Linear algebra</th>\n",
       "      <td>6</td>\n",
       "      <td>48</td>\n",
       "      <td>288</td>\n",
       "    </tr>\n",
       "    <tr>\n",
       "      <th>Operating systems and networks</th>\n",
       "      <td>6</td>\n",
       "      <td>48</td>\n",
       "      <td>288</td>\n",
       "    </tr>\n",
       "    <tr>\n",
       "      <th>Practical computer science</th>\n",
       "      <td>6</td>\n",
       "      <td>48</td>\n",
       "      <td>288</td>\n",
       "    </tr>\n",
       "    <tr>\n",
       "      <th>Software engineering</th>\n",
       "      <td>6</td>\n",
       "      <td>48</td>\n",
       "      <td>288</td>\n",
       "    </tr>\n",
       "    <tr>\n",
       "      <th>Technical computer science</th>\n",
       "      <td>6</td>\n",
       "      <td>48</td>\n",
       "      <td>288</td>\n",
       "    </tr>\n",
       "    <tr>\n",
       "      <th>Theoretical computer science</th>\n",
       "      <td>6</td>\n",
       "      <td>48</td>\n",
       "      <td>288</td>\n",
       "    </tr>\n",
       "  </tbody>\n",
       "</table>\n",
       "</div>"
      ],
      "text/plain": [
       "                                selected  CPs of lecture (or equivalent)   \n",
       "Topic                                                                      \n",
       "Algorithms and data structures         6                              48  \\\n",
       "Calculus                               6                              48   \n",
       "Databases                              6                              48   \n",
       "Linear algebra                         6                              48   \n",
       "Operating systems and networks         6                              48   \n",
       "Practical computer science             6                              48   \n",
       "Software engineering                   6                              48   \n",
       "Technical computer science             6                              48   \n",
       "Theoretical computer science           6                              48   \n",
       "\n",
       "                                WeightedCPs  \n",
       "Topic                                        \n",
       "Algorithms and data structures          288  \n",
       "Calculus                                288  \n",
       "Databases                               288  \n",
       "Linear algebra                          288  \n",
       "Operating systems and networks          288  \n",
       "Practical computer science              288  \n",
       "Software engineering                    288  \n",
       "Technical computer science              288  \n",
       "Theoretical computer science            288  "
      ]
     },
     "execution_count": 6,
     "metadata": {},
     "output_type": "execute_result"
    }
   ],
   "source": [
    "df.groupby(level=0)[[\"selecte.ipynb_checkpoints/\", \"CPs of lecture (or equivalent)\", \"WeightedCPs\"]].sum(numeric_only=True)"
   ]
  },
  {
   "cell_type": "code",
   "execution_count": 7,
   "id": "9b0b6890-bb1f-44a0-b924-e34b02e70e0f",
   "metadata": {
    "tags": []
   },
   "outputs": [
    {
     "data": {
      "text/plain": [
       "432"
      ]
     },
     "execution_count": 7,
     "metadata": {},
     "output_type": "execute_result"
    }
   ],
   "source": [
    "df[\"CPs of lecture (or equivalent)\"].sum()"
   ]
  },
  {
   "cell_type": "code",
   "execution_count": 7,
   "id": "516e8f7f-8078-4eef-baae-c9e85613d980",
   "metadata": {
    "tags": []
   },
   "outputs": [
    {
     "data": {
      "text/plain": [
       "[{'Question': 'Why would you prefer Heidelberg over other highly ranked Universities in Germany? (Max. two sentences)',\n",
       "  'Answer': \"I completed my Bachelor's degree at Heidelberg University. Moreover, I appreciate that in Heidelberg, there is a strong emphasis on theoretical foundations.\"},\n",
       " {'Question': 'What topics in the MSc in Heidelberg attract you most? Explain Why. (Max. four sentences)',\n",
       "  'Answer': \"I will name three subjects from the Master's program in Computer Science that are particularly interesting to me: Algorithm Engineering, Advanced Machine Learning, and Practical Geometry. These modules represent topics that I already found very captivating during my Bachelor's studies. This includes modules from the Master's program in Computer Engineering, such as Advanced Computer Architecture and Reconfigurable Embedded Systems.\"},\n",
       " {'Question': 'Describe in three to four sentences the topic and main outcome of your BSc thesis.',\n",
       "  'Answer': 'The topic was Mandelbulb acceleration on FPGAs. The thesis demonstrated that ray marching on FPGAs can achieve significantly higher precision and that FPGA implementations of ray marching consume substantially less energy compared to GPUs. It was crucial to identify new and suitable algorithms that enable robust and energy-efficient pipelining. The Mandelbulb served as a proof of concept.'},\n",
       " {'Question': 'Discuss how your previous academic and extracurricular experiences have prepared you for the rigorous curriculum of the MSc in Data and Computer Science at Heidelberg University. (Max. four sentences)',\n",
       "  'Answer': \"I have attended seminars during my bachelor's degree where I was required to write research papers. Additionally, I collaborated with my thesis advisor to submit a paper to the FPL, based on a portion of my bachelor's thesis. This paper could potentially be published in IEEE if it is accepted.\"},\n",
       " {'Question': 'Describe a past experience where you successfully worked as part of a team on a technical project. What role did you play, and what was the outcome? (Max. four sentences)',\n",
       "  'Answer': \"In 2022, I participated in the SCC Student Cluster Competition. Our main objective was to build our own cluster and optimize specific applications on it. We triumphed in the onsite competition in Hamburg at the ISC. My primary role involved assisting with the cluster setup and optimizing the application NWCHEM, contributing to our team's success.\"}]"
      ]
     },
     "execution_count": 7,
     "metadata": {},
     "output_type": "execute_result"
    }
   ],
   "source": [
    "get_questions(\"/home/lkeegan/Downloads/form-data (15) (1).txt\")"
   ]
  },
  {
   "cell_type": "code",
   "execution_count": null,
   "id": "8bd889a8-5277-4de0-8427-c260b5bc653a",
   "metadata": {},
   "outputs": [],
   "source": []
  }
 ],
 "metadata": {
  "kernelspec": {
   "display_name": "Python 3 (ipykernel)",
   "language": "python",
   "name": "python3"
  },
  "language_info": {
   "codemirror_mode": {
    "name": "ipython",
    "version": 3
   },
   "file_extension": ".py",
   "mimetype": "text/x-python",
   "name": "python",
   "nbconvert_exporter": "python",
   "pygments_lexer": "ipython3",
   "version": "3.10.11"
  }
 },
 "nbformat": 4,
 "nbformat_minor": 5
}
